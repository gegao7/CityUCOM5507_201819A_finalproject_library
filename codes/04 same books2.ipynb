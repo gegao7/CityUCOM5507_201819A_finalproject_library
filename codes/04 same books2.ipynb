{
 "cells": [
  {
   "cell_type": "code",
   "execution_count": 1,
   "metadata": {},
   "outputs": [
    {
     "name": "stdout",
     "output_type": "stream",
     "text": [
      "{'Human communication : the basic course', 'Ongoing crisis communication : planning, managing, and responding', 'Advertising and promotion : an integrated marketing communications perspective'}\n",
      "{'Sociology', 'Cities in a world economy', 'The archaeology of early China : from prehistory to the Han Dynasty', 'The practice of social research', 'Handbook of contemporary China', 'Schools and society : a sociological approach to education', 'Case study research : design and methods', 'Political sociology', \"China's future\", 'Learning Chinese : linguistic, sociocultural, and narrative perspectives', 'Qualitative inquiry & research design : choosing among five approaches', 'Social psychology', 'What is a case? : exploring the foundations of social inquiry', 'Qualitative research methods for the social sciences', 'Chinese society in the age of Confucius (1000-250 BC) : the archaeological evidence', 'The law of peoples ; with, The idea of public reason revisited', 'Social research methods', 'Dimensions of Japanese society : gender, margins and mainstream', '社會行動與香港', 'Modern social work theory', 'Research design : qualitative, quantitative, and mixed methods approaches', '香港四代人', 'Men and masculinities in contemporary Japan : dislocating the salaryman doxa', 'The globalization reader'}\n"
     ]
    }
   ],
   "source": [
    "import csv\n",
    "from collections import defaultdict\n",
    "\n",
    "\n",
    "def cmp_books(path1, path2, out_path):\n",
    "    # read book\n",
    "    with open(path1, 'rt', encoding=\"utf-8\") as fp1, open(path2, 'rt', encoding='utf-8') as fp2:\n",
    "        reader = list(csv.reader(fp1))\n",
    "        book_map1 = defaultdict(set)\n",
    "        for row in reader[1:]:\n",
    "            book_map1[row[1]].add(tuple(row[1:]))\n",
    "\n",
    "        reader = list(csv.reader(fp2))\n",
    "        book_map2 = defaultdict(set)\n",
    "        for row in reader[1:]:\n",
    "            book_map2[row[1]].add(tuple(row[1:]))\n",
    "\n",
    "  \n",
    "    both_same = set(book_map1.keys()) & set(book_map2.keys())\n",
    "    same_book1 = set(filter(lambda x: len(book_map1[x]) > 1, book_map1.keys()))\n",
    "    same_book2 = set(filter(lambda x: len(book_map1[x]) > 1, book_map1.keys()))\n",
    "    same_books = both_same | same_book1 | same_book2\n",
    "    print(same_books)\n",
    "\n",
    "    with open(out_path, 'w+t', encoding='utf-8') as fp:\n",
    "        writer = csv.writer(fp)\n",
    "        writer.writerow(['', 'title', 'publisher', 'author', 'year', 'source'])\n",
    "        index = 0\n",
    "        for title in same_books:\n",
    "           \n",
    "            book_set1 = book_map1.get(title)\n",
    "            if book_set1:\n",
    "                for row in book_set1:\n",
    "                    writer.writerow([index, *row, path1.split('/')[-1]])\n",
    "                    index += 1\n",
    "          \n",
    "            book_set2 = book_map2.get(title)\n",
    "            if book_set2:\n",
    "                for row in book_set2:\n",
    "                    writer.writerow([index, *row, path2.split('/')[-1]])\n",
    "                    index += 1\n",
    "# media\n",
    "path1 = 'cityu media.csv'\n",
    "path2 = 'cuhk media.csv'\n",
    "out_path = 'same_books.csv'\n",
    "cmp_books(path1, path2, out_path)\n",
    "\n",
    "# sociology\n",
    "path1 = 'cityu sociology.csv'\n",
    "path2 = 'cuhk sociology.csv'\n",
    "out_path = 'same_books2.csv'\n",
    "cmp_books(path1, path2, out_path)\n"
   ]
  },
  {
   "cell_type": "code",
   "execution_count": null,
   "metadata": {},
   "outputs": [],
   "source": []
  }
 ],
 "metadata": {
  "kernelspec": {
   "display_name": "Python 3",
   "language": "python",
   "name": "python3"
  },
  "language_info": {
   "codemirror_mode": {
    "name": "ipython",
    "version": 3
   },
   "file_extension": ".py",
   "mimetype": "text/x-python",
   "name": "python",
   "nbconvert_exporter": "python",
   "pygments_lexer": "ipython3",
   "version": "3.6.5"
  }
 },
 "nbformat": 4,
 "nbformat_minor": 2
}
