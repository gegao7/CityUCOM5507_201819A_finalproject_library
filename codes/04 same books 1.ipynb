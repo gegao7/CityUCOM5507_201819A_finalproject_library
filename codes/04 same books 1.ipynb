{
 "cells": [
  {
   "cell_type": "code",
   "execution_count": 2,
   "metadata": {
    "scrolled": false
   },
   "outputs": [
    {
     "name": "stdout",
     "output_type": "stream",
     "text": [
      "['titles', 'Human communication : the basic course', 'Human communication : the basic course', 'Media technology and society : a history : from the telegraph to the Internet', 'Communication, technology and society', 'Intercultural communication : a discourse approach', 'Close encounters : communication in relationships', 'Communication research : asking questions, finding answers', 'Communication theories : perspectives, processes, and contexts', 'The media : an introduction', 'Media today : mass communication in a converging world', 'Visual communication : images with messages', 'Effective managerial communication', 'Managerial communication : a finger on the pulse', 'Mass media research : an introduction', 'Organizational communication : approaches and processes', 'Marketing communications : integrating offline and online with social media', 'Integrated advertising, promotion and marketing communications', 'Essentials of marketing communications', 'Marketing communications : an integrated approach', 'Nonviolent communication : a language of life', 'Reaching Audiences : a Guide to Media Writing', 'Writing for the mass media', 'Ongoing crisis communication : planning, managing, and responding', \"McQuail's reader in mass communication theory\", 'Mass media, politics and democracy', 'Training in interpersonal skills : tips for managing people at work', 'Managerial communication : bridging theory and practice', 'Images that injure : pictorial stereotypes in the media', 'Advertising and promotion : an integrated marketing communications perspective', \"Media writer's handbook : a guide to common writing and editing problems\", 'Integrated marketing communications in advertising and promotion', 'Marketing communications : principles and practice', 'Introducing communication research : paths of inquiry', 'Book of imaginary media : excavating the dream of the ultimate communication medium', 'Endless referrals : network your everyday contacts into sales', 'The dynamics of persuasion : communication and attitudes in the 21st century', 'Reaching out : interpersonal effectiveness and self-actualization', \"When words collide : a media writer's guide to grammar and style\", 'Media now : understanding media, culture, and technology', 'When cultures collide : leading across cultures : a major new edition of the global guide', 'Culture and psychology', 'Culture and psychology : people around the world', \"White space is not your enemy : a beginner's guide to communicating visually through graphic, web & multimedia design\", 'Make your mark! : influencing across your organization', 'Cross-cultural management communication', 'Training in management skills', 'The spectacle of accumulation : essays in culture, media, & politics', 'Marketing across cultures', 'Discovering speech, words, and mind', \"A student's guide to presentations : making your presentation count\", 'Gender, race and class in media : a text-reader', 'Liberation technology : social media and the struggle for democracy', 'Semantics, culture, and cognition : universal human concepts in culture-specific configurations']\n"
     ]
    }
   ],
   "source": [
    "import pandas as pd\n",
    "import csv\n",
    "with open('cityu media.csv', \"rt\", encoding=\"utf-8\") as vsvfile:\n",
    "    reader = csv.reader(vsvfile)\n",
    "    column1 = [row[1] for row in reader]\n",
    "    print(column1)"
   ]
  },
  {
   "cell_type": "code",
   "execution_count": 3,
   "metadata": {},
   "outputs": [
    {
     "name": "stdout",
     "output_type": "stream",
     "text": [
      "['titles', \"North Korea's hidden revolution : how the information underground is transforming a closed society\", 'Reputation management : the key to successful public relations and corporate communication', 'Media and cultural studies : keyworks', '媒介文化論 : 給媒介學習者的15講', 'Social media campaigns : strategies for public relations and marketing', 'Ethical practice of social media in public relations', 'Corporate communication : a guide to theory & practice', 'Corporate communication', \"How to deliver a TED talk : secrets of the world's most inspiring presentations\", 'Introduction to communication disorders : a life span perspective', 'Introduction to communication disorders : a lifespan evidence-based perspective', 'Essentials of communication sciences & disorders', 'Approaches to media : a reader', 'Intercultural communication for business', 'Japanese culture and communication : critical cultural analysis', 'Introducing language and intercultural communication', 'Ongoing crisis communication : planning, managing, and responding', 'Corporate communication : tactical guidelines for strategic practice', 'Language disorders from infancy through adolescence : listening, speaking, reading, writing, and communicating', \"How to deliver a great TED talk : presentation secrets of the world's best speakers\", 'Ongoing crisis communication : planning, managing, and responding', 'Structures of social action : studies in conversation analysis', 'How to design TED-worthy presentation slides : presentation design principles from the best TED talks', 'Communication skills in pharmacy practice : a practical guide for students and practitioners', 'The Visual culture reader', '畫中有話 : 近代中國的視覺表述與文化構圖', 'Visual culture', 'The shape of practical theology : empowering ministry with theological praxis', 'Aquaculture : farming aquatic animals and plants', 'Orality and literacy : the technologizing of the word', 'Applied anatomy & physiology for speech-language pathology & audiology', 'Architecture in the age of printing : orality, writing, typography, and printed images in the history of architectural theory', 'Legal writing : a systematic approach', 'Phonetics : transcription, production, acoustics, and perception', 'Plain English for lawyers', 'Architectural graphics', 'Architectural graphics', '現代廣播學 = Modern radio broadcasting', 'Architectural graphics', 'Culture clash', '节目主持艺朮探', 'Legal writing in plain English : a text with exercises', 'Childhood communication disorders : organic bases', 'Soft power superpowers : cultural and national assets of Japan and the United States', 'British cultural studies : an introduction', 'The craft of research', 'An introduction to theories of popular culture', '入門ことばの科學', 'Pleadings without tears : a guide to legal drafting under the civil procedure rules', 'Writing for social scientists : how to start and finish your thesis, book, or article', 'Getting ready to negotiate : the Getting to yes workbook', 'The social construction of reality : a treatise in the sociology of knowledge', '閱讀香港普及文化, 1970-2000', 'An Introduction to Language', '主持人场景应对技巧', 'Legal method and writing', '英國文化硏究導論', 'The social construction of reality : a treatise in the sociology of knowledge', 'How to do media and cultural studies', 'Legal writing and analysis in a nutshell', 'Academic legal writing : law review articles, student notes, seminar papers, and getting on law review', 'First language acquisition', 'Handbook of generative approaches to language acquisition', 'How children learn language', '原初的激情 : 視覺、性慾、民族誌與中國當代電影', 'ゼロ年代の想像力', 'Child language : acquisition and growth', 'A lawyer writes : a practical guide to legal analysis', 'Scholarly writing for law students : seminar papers, law review notes and law review competition papers', 'Assessment of language disorders in children', 'Language development', 'Cultural studies : a practical introduction', 'The elements of legal style', 'Blackwell handbook of language development', 'Research methods in second language acquisition : a practical guide', 'The legal imagination', '播音主持論', 'Fanning the flames : fans and consumer culture in contemporary Japan', 'The Oxford handbook of developmental linguistics', 'Cultural theory and popular culture : a reader', 'Public relations campaigns and portfolio building', 'The speech chain : the physics and biology of spoken language', 'Just writing : grammar, punctuation, and style for the legal writer', '传播媒介的历史之光 : 广播电影电视史论', 'New Taiwanese cinema in focus : moving within and beyond the frame', 'Architectural representation and the perspective hinge', 'Developing communicative competence in a second language', '日本中毒', 'The Cultural studies reader', 'Transport geographies : mobilities, flows and spaces', 'Modern transport geography', 'Child language : acquisition and development', 'Methods for studying language production', '日本語教師のための新しい言語習得概論 = Language acquisition theories for teachers of Japanese', 'Transport systems, policy and planning : a geographical approach', '家庭如何塑造人', 'Understanding expertise in teaching : case studies of second language teachers', 'Letter writing for lawyers', 'Speech and hearing science : anatomy and physiology', 'Speaking of emotions : conceptualisation and expression', '上海摩登 : 一種新都市文化在中國1930-1945', '上海摩登 : 一种新都市文化在中囯1930-1945', 'Shanghai modern : the flowering of a new urban culture in China, 1930-1945', 'The new peoplemaking', 'Legal English', 'Investigations in universal grammar : a guide to experiments on the acquisition of syntax and semantics', \"Methods for assessing children's syntax\", 'Plain language for lawyers', '现实是过去的未来 [videorecording] = Disorder', 'Dictionary of shipping terms', 'ゲーム的リアリズムの誕生 : 動物化するポストモダン. 2', 'Research methods in child language : a practical guide', 'Advertising and promotion : an integrated marketing communications perspective', 'Color atlas of microbiology', 'Translations from drawing to building and other essays', 'Experimental methods in language acquisition research', '建立遊戲治療關係實用手冊', 'Language policy, culture, and identity in Asian contexts', '人間開眼 : 從小說與映像窺視下流日本', '架構的生態系 : 資訊環境被如何設計至今?', 'Health behavior and health education : theory, research, and practice', 'The Cambridge handbook of child language', \"Netter's Atlas of Anatomy for Speech, Swallowing, and Hearing [electronic resource]\", \"Against the Third Reich : Paul Tillich's wartime addresses to Nazi Germany\", 'Museum politics : power plays at the exhibition', 'Sustainable transportation : problems and solutions', 'Understanding children with language problems', 'Introduction to legal English : an introduction to legal terminology, reasoning, and writing for lawyers, law students, and business professionals who speak English as a second language', 'Planning health promotion programs : an intervention mapping approach', 'Molecular biology of the cell', 'Up in the air [videorecording]', 'Research methods in language acquisition [electronic resource] : principles, procedures, and practices']\n"
     ]
    }
   ],
   "source": [
    "import csv\n",
    "with open('cuhk media.csv', \"rt\", encoding=\"utf-8\") as vsvfile:\n",
    "    reader = csv.reader(vsvfile)\n",
    "    column2 = [row[1] for row in reader]\n",
    "    print(column2)"
   ]
  },
  {
   "cell_type": "code",
   "execution_count": 4,
   "metadata": {
    "scrolled": false
   },
   "outputs": [
    {
     "name": "stdout",
     "output_type": "stream",
     "text": [
      "['titles', 'Ongoing crisis communication : planning, managing, and responding', 'Advertising and promotion : an integrated marketing communications perspective']\n"
     ]
    }
   ],
   "source": [
    "same = [val for val in column1 if val in column2]\n",
    "print (same)"
   ]
  },
  {
   "cell_type": "code",
   "execution_count": 28,
   "metadata": {
    "scrolled": true
   },
   "outputs": [
    {
     "name": "stdout",
     "output_type": "stream",
     "text": [
      "    Unnamed: 0                                             titles  \\\n",
      "22          22  Ongoing crisis communication : planning, manag...   \n",
      "\n",
      "                                           publishers  \\\n",
      "22  Fourth edition. Thousand Oaks, California : SA...   \n",
      "\n",
      "                       authors  years  \n",
      "22  Coombs, W. Timothy author.   2015  \n",
      "    Unnamed: 0                                             titles  \\\n",
      "28          28  Advertising and promotion : an integrated mark...   \n",
      "\n",
      "                                           publishers  \\\n",
      "28  9th ed., global ed. New York : McGraw-Hill Irw...   \n",
      "\n",
      "                                              authors  years  \n",
      "28  Belch, George E. (George Edward), 1951- Belch,...   2012  \n"
     ]
    }
   ],
   "source": [
    "\n",
    "csv_file = \"cityu media.csv\"\n",
    "completeinfo = pd.read_csv(csv_file)\n",
    "for i in list(same)[1:]:\n",
    "    a=(completeinfo[completeinfo['titles']==i])\n",
    "    print(a)\n",
    "\n",
    "  "
   ]
  },
  {
   "cell_type": "code",
   "execution_count": 33,
   "metadata": {},
   "outputs": [
    {
     "name": "stdout",
     "output_type": "stream",
     "text": [
      "    Unnamed: 0                                             titles  \\\n",
      "16          16  Ongoing crisis communication : planning, manag...   \n",
      "20          20  Ongoing crisis communication : planning, manag...   \n",
      "\n",
      "                                           publishers  \\\n",
      "16  Fourth edition Thousand Oaks, California : SAG...   \n",
      "20          3rd ed Thousand Oaks, Calif. : SAGE c2012   \n",
      "\n",
      "                                             authors  years  \n",
      "16  W. Timothy Coombs, University of Central Florida   2015  \n",
      "20                                 W. Timothy Coombs   2012  \n",
      "     Unnamed: 0                                             titles  \\\n",
      "112         112  Advertising and promotion : an integrated mark...   \n",
      "\n",
      "                                            publishers  \\\n",
      "112  10e, Tenth edition New York, NY : McGraw-Hill ...   \n",
      "\n",
      "                                authors  years  \n",
      "112  George E. Belch & Michael A. Belch   2015  \n"
     ]
    }
   ],
   "source": [
    "csv_file = \"cuhk media.csv\"\n",
    "completeinfo = pd.read_csv(csv_file)\n",
    "for i in list(same)[1:]:\n",
    "    b=completeinfo[completeinfo['titles']==i]\n",
    "    print(b)"
   ]
  },
  {
   "cell_type": "code",
   "execution_count": 31,
   "metadata": {},
   "outputs": [
    {
     "ename": "AttributeError",
     "evalue": "type object 'dict' has no attribute 'merge'",
     "output_type": "error",
     "traceback": [
      "\u001b[0;31m---------------------------------------------------------------------------\u001b[0m",
      "\u001b[0;31mAttributeError\u001b[0m                            Traceback (most recent call last)",
      "\u001b[0;32m<ipython-input-31-9f8767e1ddce>\u001b[0m in \u001b[0;36m<module>\u001b[0;34m()\u001b[0m\n\u001b[0;32m----> 1\u001b[0;31m \u001b[0ms1\u001b[0m\u001b[0;34m=\u001b[0m\u001b[0mdict\u001b[0m\u001b[0;34m.\u001b[0m\u001b[0mmerge\u001b[0m\u001b[0;34m(\u001b[0m\u001b[0ma\u001b[0m\u001b[0;34m,\u001b[0m\u001b[0mb\u001b[0m\u001b[0;34m,\u001b[0m\u001b[0mon\u001b[0m\u001b[0;34m=\u001b[0m\u001b[0;34m'title'\u001b[0m\u001b[0;34m,\u001b[0m\u001b[0mhow\u001b[0m \u001b[0;34m=\u001b[0m \u001b[0;34m'outer'\u001b[0m\u001b[0;34m)\u001b[0m\u001b[0;34m\u001b[0m\u001b[0m\n\u001b[0m",
      "\u001b[0;31mAttributeError\u001b[0m: type object 'dict' has no attribute 'merge'"
     ]
    }
   ],
   "source": [
    "s1=dict.merge(a,b,on='title',how = 'outer')"
   ]
  },
  {
   "cell_type": "code",
   "execution_count": 19,
   "metadata": {},
   "outputs": [
    {
     "name": "stdout",
     "output_type": "stream",
     "text": [
      "['titles', 'Sociology', 'Researching society and culture', 'Handbook of social capital : the troika of sociology, political science and economics', 'Schools and society : a sociological approach to education', 'Handbook of social theory', 'Quantitative data analysis : doing social research to test ideas', 'Social theory for beginners', 'Thinking sociologically', 'Cities & social change : encounters with contemporary urbanism', 'Sociology', 'Sociology', 'Sociology', 'Being sociological', 'Sociology : themes and perspectives', 'Sociology reinterpreted : an essay on method and vocation', 'Introduction to sociology', 'Society : the basics', 'Contemporary social theory : an introduction', 'The basics of sociology', 'Social and political philosophy : contemporary perspectives', 'Understanding society : an introductory reader', 'Contemporary sociological theory : expanding the classical tradition', 'The logic of collective action : public goods and the theory of groups', 'The Blackwell companion to political sociology', '社會學新探 = Revisiting sociology', 'Social psychology', 'Social science : an introduction to the study of society', 'Sociology : making sense of society', 'Sociology : a brief but critical introduction', 'Social psychology', 'Contemporary society : an introduction to social science', 'Exploring social psychology', 'Social psychology', 'Essential social psychology', 'Social divisions', '21st century sociology : a reference handbook', 'Generalist social work practice : an empowering approach', 'Global problems : the search for equity, peace, and sustainability', 'Tackling social exclusion', 'Sociological theory', 'Modern social work theory', 'The sources of social power', 'Social work : themes, issues and critical debates', 'Beyond red state, blue state : electoral gaps in the twenty-first century American electorate', 'Human behavior and the social environment : shifting paradigms in essential knowledge for social work practice', 'The practice of macro social work', 'Human behavior and the social environment : social systems theory', 'Mail and internet surveys : the tailored design method', 'Human behavior theory and social work practice', 'Introducing social theory', 'An introduction to group work practice', '硏究方法 : 社會工作曁人文科學領域的運用', 'The strengths perspective in social work practice', 'Community work', 'The practice of research in social work', 'Qualitative inquiry & research design : choosing among five approaches', 'Social research methods', 'Business and society : stakeholders, ethics, public policy', 'Qualitative research methods for the social sciences', 'Research methods in applied settings : an integrated approach to design and analysis', 'Moral philosophy : theories and issues', 'Archaeologies of materiality', 'Case study research : design and methods', 'Contemporary social philosophy', 'Doing social research', 'Polite politics : a sociological analysis of an urban protest in Hong Kong', 'Technology and society : a bridge to the 21st century', 'Understanding social science : a philosophical introduction to the social sciences', 'Scale development : theory and applications', 'Research design : qualitative, quantitative, and mixed methods approaches', 'Social work : an empowering profession', 'State in society : studying how states and societies transform and constitute one another', 'Applying ethics : a text with readings', 'Rethinking social inquiry : diverse tools, shared standards', 'Generalist practice with organizations and communities', 'The practice of social research', 'Approaches to social research', 'Social problems : a service learning approach', 'Social work macro practice', 'Contemporary sociological theory : continuing the classical tradition', 'Social problems', 'Society and technological change', 'Strategies of qualitative inquiry', 'The basics of social research', \"The social work student's research handbook\", 'Taking sides. Clashing views in science, technology and society', 'The community in urban society', 'Social work values and ethics', 'Introduction to political sociology : power and participation in the modern world', '社會倫理通識', '社區工作 : 理論與實踐', 'Handbook of urban studies', 'Constructing social theories', 'Research in political sociology.', 'An introduction to qualitative research', 'Political sociology : structure and process', 'Sex & social justice', 'From Max Weber : essays in sociology', 'Social exclusion and social work : issues of theory, policy and practice', 'The psychology of prejudice and discrimination', 'Social science : beyond constructivism and realism', 'Political sociology', 'Political sociology', 'Language and power', 'Rethinking modernity : postcolonialism and the sociological imagination', 'Empowerment practice in social work : developing richer conceptual foundations', 'New communitarian thinking : persons, virtues, institutions, and communities', 'Empowerment in community care', '社區工作技巧', 'An introduction to Japanese society', 'Developing effective research proposals', 'Social ethics : morality and social policy', 'Understanding social movements : theories from the Classical Era to the present', 'When cultures collide : leading across cultures : a major new edition of the global guide', 'The integration of social work practice', 'An Introduction To The Philosophy Of Social Research .', 'How to re-imagine the world : a pocket guide for practical visionaries', 'Understanding research for social policy and social work : themes, methods and approaches', 'Science, technology, and society', 'Community organizing : theory and practice', 'Science and technology in a multicultural world : the cultural politics of facts and artifacts', '社區工作 : 社區照顧實踐', 'Objectivity in social research', 'Fashion as communication', 'Philosophy of social science : the methods, ideals, and politics of social inquiry', 'Professionalism : the third logic', 'Varieties of social explanation : an introduction to the philosophy of social science', 'Pathways to power : readings in contextual social work practice', 'Handbook of social problems : a comparative international perspective', 'Introduction to the philosophy of social research', 'Thinking methodologically', 'Handbook of social problems : a comparative, international perspective', 'The survey methods workbook : from design to analysis', 'Business, government, and society : a managerial perspective : text and cases', 'The philosophy of social science : an introduction', 'Theories of urban politics', 'Images that injure : pictorial stereotypes in the media', 'Readings in the philosophy of social science', 'From post-industrial to post-modern society : new theories of the contemporary world', 'Research methods for the behavioral sciences', 'The politics of social research', 'Macro social work practice : a strengths perspective', \"Political philosophy : a beginners' guide for students and politicians\", '中國社區工作', 'Making social science matter : why social inquiry fails and how it can succeed again', 'Justice, equality, and rights : an introduction to social and political philosophy', 'Technology and society : issues for the 21st century and beyond', 'Current issues in community work : a study', 'Society, ethics, and technology', 'Science, technology, and society : new directions', 'Social research : philosophy, politics and practice', 'Designing and conducting mixed methods research', 'Corporate social responsibility', 'Theory and practice of community social work', 'The philosophy of the social sciences', '個案工作 : 理論及案例 = Casework : theories and case illustrations', '社區工作 : 理論與實務', 'Social studies of science and technology : looking back, ahead', 'Technology and social complexity', 'Methods : doing social research', 'Empowerment in social work practice : a sourcebook', '小組工作程序計劃簿', 'Skills in neighbourhood work', 'Practical sampling', 'Human relations : interpersonal job-oriented skills', 'Feminist social work', 'Case study research : principles and practices', 'What is a case? : exploring the foundations of social inquiry', 'Moral literacy, or, How to do the right thing', 'Book of imaginary media : excavating the dream of the ultimate communication medium', 'Endless referrals : network your everyday contacts into sales', 'Technology, change, and society', 'Making democracy work better : mediating structures, social capital, and the democratic prospect', 'The fashion system', 'Comparative perspectives on social movements : political opportunities, mobilizing structures, and cultural framings', 'Modern social work theory : a critical introduction', 'Social work with groups : a process model', 'The comparative method : moving beyond qualitative and quantitative strategies', 'A Companion to ethics', 'Lobbying for social change', 'On thinking institutionally', '「社會服務成效評估 : 程序邏輯模式之應用」 = Program logic model', 'Law and social justice', 'Marketing across cultures', 'Publication manual of the American Psychological Association.', 'Let the people decide : neighborhood organizing in America', 'Social policy reform in Hong Kong and Shanghai : a tale of two cities', 'The law of peoples ; with, The idea of public reason revisited', 'Science, technology, and society : a sociological approach', '香港社區工作 : 反思與前瞻', 'The face of fashion : cultural studies in fashion', 'A challenge to change : practical experiences of building user-led services', 'The social quality of Europe', 'Self-directed groupwork : users take action for empowerment', 'An introduction to science and technology studies', 'Beyond casework', '求索基層組織路', 'Anti-discriminatory practice', 'Self-help, social work and empowerment', 'The myth of neighbourhood mutual help : the contemporary Chinese community-based welfare system in Guangzhou', 'Social statistics : managing data, conducting analyses, presenting results', 'Future forms and design for sustainable cities', 'Elementary statistics in social research : the essentials', 'Social life and development in Hong Kong', 'Psychology of prejudice and discrimination', 'Is your \"net\" working? : a complete guide to building contacts and career visibility', 'An archaeology of Asia', 'Social problems : a down-to-earth approach', '社區工作新程式', 'The new middle class in China : consumption, politics and the market economy', 'Achieving power : practice and policy in social welfare', 'The social basis of community care', 'Dimensions of Japanese society : gender, margins and mainstream', 'Communication, technology and society', 'Fashion and its social agendas : class, gender, and identity in clothing', 'Rethinking Modernity : Postcolonialism and the Sociological Imagination', 'Chinese society in the age of Confucius (1000-250 BC) : the archaeological evidence', 'Doing fieldwork in China', 'Understanding social psychology across cultures : engaging with others in a changing world', 'Community practice : models in action', 'Urban theory : a critical introduction to power, cities and urbanism in the 21st century', 'Community organizing and development', 'Guns, germs, and steel : the fates of human societies', 'Social work with groups : using the class as a group leadership laboratory', 'Liberalism and the moral life', 'A handbook of political sociology : states, civil societies, and globalization', 'Justice for here and now', 'The politics of social work', 'The practice of critical discourse analysis : an introduction', 'Cities in a world economy', 'Blending east and west : understanding the changing Chinese society', 'The globalization reader', 'Anti-oppressive practice : social care and the law', 'Make your mark! : influencing across your organization', 'Social and political philosophy : contemporary readings', 'European Prehistory : A Survey', 'Political sociology : a comparative/historical approach', 'A mutual-aid model for social work with groups', 'Community practice : conceptual models', 'Practical politics : social work and political responsibility', 'Social work with older adults : a biopsychosocial approach to assessment and intervention', 'The city : a global history', 'The globalization of Chinese food', '優勢觀點與社會工作實務 : 邁向復元之路', '公民參與 : 社會政策的基石', 'Doing your research project : a guide for first-time researchers', 'Discovering statistics using IBM SPSS statistics', 'Media technology and society : a history : from the telegraph to the Internet', 'Organizing for power and empowerment', 'The encyclopedia of science, technology, and society', 'Science, technology, and society : the impact of science in the 19th century', 'Social workers : their role & tasks : the report of a working party set up in October 1980, at the request of the Secretary of State for Social Services,', 'Community analysis and praxis : toward a grounded civil society', 'Science, technology, and society : an introduction', 'Empowerment, participation and social work', 'Social work and local politics', 'Ethical theory and business', 'Social exclusion in Europe : problems and paradigms', '小武 = Xiao Wu', \"Hong Kong's housing policy : a case study in social justice\", 'Readings in community work', 'Community economic development and social work', 'Community development : community-based alternatives in an age of globalisation', 'The spectacle of accumulation : essays in culture, media, & politics', 'Analysing community work : its theory and practice', 'Social networks and social support', '漢語與華人社會', '社耕拾穗. (2), 以社區為本, 綜合模式為主的社區服務', 'Social work and community care', 'Global issues', 'The Oxford handbook of urban politics', \"Counseling today's families\", '回眸時看社區工作', '香港四代人', 'The making of community work', 'Community work in the 1990s', '社會行動與香港', 'Empowerment social work with physically disabled people', 'Promoting equality : working with diversity and difference', 'What makes life worth living? : how Japanese and Americans make sense of their worlds', 'Religion and conflict in South and Southeast Asia : disrupting violence', 'The future of the past', 'The new Japanese woman : modernity, media, and women in interwar Japan', 'Morality and public policy', 'The first Tung Chee-hwa administration : the first five years of the Hong Kong Special Administration Region', 'The Hong Kong Special Administrative Region in its first decade', 'Perspectives on Hong Kong society', 'Uses of heritage', '天注定 = A touch of sin', \"From colony to SAR : Hong Kong's challenges ahead\", 'Liberation technology : social media and the struggle for democracy', 'Handbook of trust research', '後過渡期基層運動的探索', 'The informal caring networks among Chinese families in Hong Kong', 'Beyond self-interest', 'Raise the red lantern : three novellas', 'Learning Chinese : linguistic, sociocultural, and narrative perspectives', 'Community organization and social administration : advances, trends, and emerging principles', 'Men and masculinities in contemporary Japan : dislocating the salaryman doxa', 'Social issues in Hong Kong', 'Studies in empowerment : steps toward understanding and action', '20th-century fashion', 'Cinema and desire : feminist Marxism and cultural politics in the work of Dai Jinhua', \"Women in culture : a women's studies anthology\", 'Changing clothes in China : fashion, history, nation', 'Empowering practice in social care', 'The animals reader : the essential classic and contemporary writings', 'Learning Chinese : linguistic, sociocultural, and narrative perspectives', 'Social work with groups : a comprehensive workbook', 'Business, information technology and society', 'Social cleavages and political change : voter alignments and U.S. party coalitions', 'The archaeology of early China : from prehistory to the Han Dynasty', 'Handbook of contemporary China', 'Changing services for older people : the neighbourhood support units innovation', 'Politics and society in contemporary China', 'Reproduction, ethics, and the law : feminist perspectives', 'Social support networks and the care of the elderly : theory, research, and practice', '千言萬語 = Ordinary heroes', \"China's future\", '悲情城市', 'Reproduction, ethics and the law : feminist perspectives', 'Economics, ethics, and public policy', 'Dreaming of gold, dreaming of home : transnationalism and migration between the United States and South China, 1882-1943', 'Gender, race and class in media : a text-reader', 'One country, two societies : rural-urban inequality in contemporary China', 'Building Hong Kong : environmental considerations', 'Urban fortunes : the political economy of place', 'Dirt! : the movie', 'Ethics and business : an introduction', 'Chinese Englishes : a sociolinguistic history', 'Management ethics', '老頭 = Old men', 'Handbook of contemporary China', 'Burma chronicles', '[Smoking ban]', \"China's living houses : folk beliefs, symbols, and household ornamentation\", 'Up the Yangtze']\n"
     ]
    }
   ],
   "source": [
    "with open('cityu sociology.csv', \"rt\", encoding=\"utf-8\") as vsvfile:\n",
    "    reader = csv.reader(vsvfile)\n",
    "    column1 = [row[1] for row in reader]\n",
    "    print(column1)"
   ]
  },
  {
   "cell_type": "code",
   "execution_count": 20,
   "metadata": {},
   "outputs": [
    {
     "name": "stdout",
     "output_type": "stream",
     "text": [
      "['titles', 'Sociological odyssey : contemporary readings in introductory sociology', 'Essentials of sociology', 'Seeing ourselves : classic, contemporary, and cross-cultural readings in sociology', 'Readings for sociology', 'Invitation to sociology : a humanistic perspective', 'Sociology : exploring the architecture of everyday life > readings', 'Sociology : exploring the architecture of everyday life readings', 'Sociological footprints : introductory readings in sociology', 'Readings for sociology', 'The sociology of Georg Simmel', '基礎社會學 = Sociology basics', 'The study of social problems : seven perspectives', 'The micro-macro link', 'The sociological imagination', 'On individuality and social forms; selected writings', 'Contemporary social problems : an introduction to the sociology of deviant behavior and social disorganization', 'Investigating the social world : the process and practice of research', 'Learning from strangers : the art and method of qualitative interview studies', 'Contentious politics', 'Medical sociology', 'Class and stratification', 'Class counts : comparative studies in class analysis', 'Damned lies and statistics : untangling numbers from the media, politicians, and activists', 'Social structures', \"Paul Tillich's radical social thought\", 'Representation', 'Approaches to class analysis', 'Civil society', \"The Student's companion to sociology\", 'Biblical studies alternatively : an introductory reader', 'Thinking about social problems : an introduction to constructionist perspectives', 'World-systems analysis : an introduction', 'Knowledge, education, and cultural change; papers in the sociology of education', 'The social construction of reality : a treatise in the sociology of knowledge', 'The social construction of reality : a treatise in the sociology of knowledge', 'Community and society', 'Religion in Chinese society : a study of contemporary social functions of religion and some of their historical factors', 'Power : a radical view', 'The social teaching of the Christian churches', 'The true believer : thoughts on the nature of mass movements', \"Asia's cultural mosaic : an anthropological introduction\", 'Culture : critical concepts in sociology', 'The essential Weber : a reader', 'Theology of culture', '表征 : 文化表象与意指实踐', 'Hong Kong divided? : structures of social inequality in the twenty-first century', 'From sociology to cultural studies : new perspectives', '文化研究智典', 'Culture and society : contemporary debates', 'Consumer culture and modernity', '文化硏究 : 理論與實踐', 'Reinstating class : a structural and developmental study of Hong Kong society', 'The New institutionalism in organizational analysis', 'Writing for social scientists : how to start and finish your thesis, book, or article', 'Leadership without easy answers', 'Writings in social philosophy and ethics = Sozialphilosophische und ethische Schriften', 'Understanding deviance : a guide to the sociology of crime and rule-breaking', '巨变 : 当代政治与经济的起源', 'The great transformation : the political and economic origins of our time', '當神話開始思考 : 網路社會的文化論', 'Political expectation', '艱難的轉型 : 現代化與中國社會', 'Social stratification : class, race, and gender in sociological perspective', 'The Routledge international handbook of the sociology of education', 'Structuring politics : historical institutionalism in comparative analysis', 'Introduction to critical theory : Horkheimer to Habermas', '信仰的完滿 : 神學的公共意義', '市場, 階級與政治 : 變遷中的華人社會', 'Power and ideology in education', 'Modern political analysis', 'Modern political analysis', 'Medicine, rationality, and experience : an anthropological perspective', 'Dimensions of Japanese society : gender, margins and mainstream', 'Cultural theory and popular culture : an introduction', 'Global Olympics : historical and sociological studies of the modern games', 'Baptized in the fire of revolution : the American social gospel and the YMCA in China, 1919-1937', 'Cultural studies : theory and practice', '文化研究簡史', 'Cultural studies : a critical introduction', 'How to do media and cultural studies', 'The city and the grassroots : a cross-cultural theory of urban social movements', 'Spaces of social exclusion', 'The law of peoples ; with, The idea of public reason revisited', 'The Frankfurt School : its history, theories, and political significance', 'The Constant flux : a study of class mobility in industrial societies', 'Social work : theory and practice for a changing profession', 'Expulsions : brutality and complexity in the global economy', '公共神學與政治經濟 : 現代社會中的基督徒管家職分', 'Culture and critique : an introduction to the critical discourses of cultural studies', 'The culture of the new capitalism', 'Keywords : a vocabulary of culture and society', 'Adult manga : culture and power in contemporary Japanese society', 'Culture and global change', 'Education, globalization, and social change', 'Modernity and self-identity : self and society in the late modern age', 'The retreat of the state : the diffusion of power in the world economy', 'Splintering urbanism : networked infrastructures, technological mobilities and the urban condition', 'Theoretical criminology', 'Out of site : a social criticism of architecture', '道德的人與不道德的社會', 'Race after the Internet', 'A community of character : toward a constructive Christian social ethic', 'Youth cultures in China', 'Education policy and social class : the selected works of Stephen J. Ball', 'Deviance and medicalization : from badness to sickness : with a new afterword by the authors', 'Critical resistance : from poststructuralism to post-critique', 'Urban world/global city', 'Schools and society : a sociological approach to education', 'Justice and the politics of difference', 'Global problems and the culture of capitalism', 'Global problems and the culture of capitalism', 'Sociology and the school : an interactionist viewpoint', 'Toward a Christian political ethics', '文化研究關鍵詞', 'Sociolinguistics : a resource book for students', 'An introduction to sociolinguistics', 'The Cultural studies reader', 'Language, society and culture in Hong Kong', 'The Routledge companion to sociolinguistics', 'Critical discourse analysis : the critical study of language', 'Sociolinguistics : method and interpretation', 'From village to city : social transformation in a Chinese county seat', 'Sociolinguistics : a reader and coursebook', 'Sociolinguistics : the essential readings', 'Ethics and community', 'Qualitative methods in sociolinguistics', '社会语言学槪论', 'The iconography of landscape : essays on the symbolic representation, design and use of past environments', 'Anywhere', 'The new institutionalism in education', 'Escape from freedom', 'Education : culture, economy, and society', 'The sane society', \"What's worth fighting for in your school? : working together for improvement\", 'Globalizing cities : a new spatial order?', 'Education and social change in China : inequality in a market economy', 'Unsettling cities : movement, settlement', 'Classical sociological theory', 'The social production of urban space', 'The culture of education', 'State sovereignty as social construct', 'Occupy', 'Triumph of the city : how our greatest invention makes us richer, smarter, greener, healthier, and happier', 'The interweaving of rituals : funerals in the cultural exchange between China and Europe', 'Order without law : how neighbors settle disputes', \"Teachers' workplace : the social organization of schools\", 'Reimagining social movements : from collectives to individuals', 'Class stratification : a comparative perspective', 'Urban geography', 'Foundations of social theory', 'The practice of everyday life', 'Modern sociological theory', 'Stratification : social division and inequality', 'Cities in space : city as place', 'The girl at the baggage claim : explaining the East-West culture gap', '现实是过去的未来 [videorecording] = Disorder', 'Century Tower : Foster Associates build in Japan', 'Identity and ethics in the book of Ruth : a social identity approach', 'The social movements reader : cases and concepts', 'Understanding health and social care : an introductory reader', 'The practice of social research', 'Social research methods', 'Social research methods', 'The sociology of religion', 'The sacred canopy : elements of a sociological theory of religion', 'Acts of faith : explaining the human side of religion', 'Religion in sociological perspective', 'The SAGE handbook of the sociology of religion', 'The sociology of religion : a substantive and transdisciplinary approach', 'Public religions in the modern world', 'Invitation to the sociology of religion', 'The Blackwell companion to sociology of religion', 'The Sociology of religion', 'Planning and social science : a humanistic approach', 'Start something that matters', 'The art and science of social research', 'Constructing social research : the unity and diversity of method', 'The SAGE handbook of qualitative research', 'The urban sociology reader', 'Inclusions and exclusions in European societies', 'Social psychology of modern Japan', 'What is social-scientific criticism?', '集落の教え100', 'The sociology of globalization', '政治秩序與多元的社會結構', 'The foundations of social research : meaning and perspective in the research process', 'Conflicts about class : debating inequality in late industrialism : a selection of readings', '兒童發展與輔導 = Child development and guidance', 'Modern social work theory', 'Research design : qualitative, quantitative, and mixed methods approaches', 'What is a case? : exploring the foundations of social inquiry', 'The practice of social research', 'Unequal childhoods : class, race, and family life', 'Qualitative inquiry & research design : choosing among five approaches', 'Social class in contemporary Japan : structures, sorting and strategies', 'Qualitative research methods for the social sciences', 'How to do your case study', 'Qualitative research methods for the social sciences', 'Sociology of religion : a reader', '社會發展的趨勢與挑戰 : 香港與台灣的經驗', 'The religion of China : Confucianism and Taoism', 'Evaluation methodology basics : the nuts and bolts of sound evaluation', 'Evaluation : a systematic approach', 'Urban ecology', 'Understanding Chinese society', 'Social mobility and class structure in modern Britain', 'Research design : qualitative, quantitative, and mixed methods approaches', 'Basics of qualitative research : techniques and procedures for developing grounded theory', '階級分析與香港', 'Understanding Chinese society', 'Social policy in China [electronic resource] : development and well-being', '我們的地方, 我們的時間 : 香港社會新編 = Our place, our time : a new introduction to Hong Kong society', '新社會政策', 'Urban regeneration', 'Foundations of social policy: social justice in human perspective', 'Ethnography : principles in practice', 'Foundations of social policy : social justice in human perspective', 'Contemporary China : society and social change', '兩岸三地社會政策 : 理論與實務', 'Social class : how does it work?', 'Psychopathology : a competency-based assessment model for social workers', 'Social change and the middle classes', '社會行動與香港', 'Designing and managing programs : an effectiveness-based approach', 'Contemporary transformations of religion', 'RealWorld evaluation : working under budget, time, data, and political constraints', '現代人與聖經', \"Introducing qualitative research : a student's guide\", 'Identity : sociological perspectives', 'Social transformation in China : critical concepts in Asian studies', '走进日本 : 透视日本语言与文化', 'Advances in social welfare in Hong Kong', 'Collaborative planning : shaping places in fragmented societies', 'Power in movement : social movements and contentious politics', '野火集', 'Cultural Heritage Politics in China [electronic resource]', 'The Dynamics of social movement in Hong Kong', 'Program evaluation : methods and case studies', 'Durkheim', 'Theory and practice of counseling and psychotherapy', 'The sustainable urban development reader', 'The Cambridge companion to modern Japanese culture', 'Bowling alone : the collapse and revival of American community', '中外名學者論21世紀初的中國', 'East Asian middle classes in comparative perspective', '真實烏托邦 = Envisioning real utopias', 'The quality of qualitative research', 'Land and the ruling class in Hong Kong', 'Spaces of contention : spatialities and social movements', '基督教社會思想史', 'Social class and the division of labour : essays in honor of Ilya Neustadt', 'Ethical practice of social media in public relations', 'The urban experience', '架構的生態系 : 資訊環境被如何設計至今?', 'Chinese society in the age of Confucius (1000-250 BC) : the archaeological evidence', 'The students companion to social policy', 'The Good society', 'Chinese society : change, conflict and resistance', 'Social marketing : changing behaviors for good', '中國社會 : 變革、衝突與抗爭', \"香港人之香港史, 1841-1945 = The Hong Kong people's history of Hong Kong, 1841-1945\", 'Hermeneutics and the human sciences : essays on language, action, and interpretation', 'Make way for the superhumans : how the science of bio-enhancement is transforming our world, and how we need to deal with it', 'Principles of economics', 'Seeing like a state : how certain schemes to improve the human condition have failed', '中國的崛起 = The rise of China', 'The Song-Yuan-Ming transition in Chinese history', '乡土中国 ; 生育制度', 'Changing China : a geographic appraisal', 'Principles of economics', 'Essential criminology', 'Digital soul : intelligent machines and human values', 'On global citizenship [electronic resource] : James Tully in dialogue', 'State and society in 21st century China : crisis, contention, and legitimation', 'Language and society in Japan', 'Essentials of economics', 'Criminological theory : past to present, essential readings', 'Law and society in traditional China', 'Development and challenge : Southeast Asia in the new millennium', 'CIVICUS global survey of the state of civil society', '下流志向 : 為什麼孩子不上學、不工作', '國富論', '香港四代人', 'Institutional environments and organizations : structural complexity and individualism', 'Routledge handbook of Japanese culture and society', 'The death and life of great American cities', 'Distinction : a social critique of the judgement of taste', '\"御宅族\"的精神史 : 1980年代论', 'Introducing social policy', 'From modernization to globalization : perspectives on development and social change', 'China in the post-utopian age', 'Transforming patriarchy : Chinese families in the twenty-first century', 'The Protestant ethic and the spirit of capitalism', 'The politics of Jesus : vicit Agnus noster', 'The China model : political meritocracy and the limits of democracy', 'Welfare and ideology', 'The China model : political meritocracy and the limits of democracy', 'Contemporary Chinese society and politics', 'The Japanese family system in transition : a sociological analysis of family change in postwar Japan', 'The lottery', 'Perspectives on social memory in Japan', 'The International survey of family law', 'China and globalization : the social, economic, and political transformation of Chinese society', 'Chinese politics : state, society and the market', '日本人与中囯人', 'The SAGE handbook of housing studies', \"Discovering statistics using IBM SPSS statistics : and sex and drugs and rock 'n' roll\", \"China's future\", 'Intimate relationships', '單身寄生時代', 'The enlightened judgments : Ch‘ing-ming chi : the Sung dynasty collection', 'The enlightened judgments [electronic resource] : Qingming ji : the Sung dynasty collection', '父權體制與資本主義 : 馬克思主義之女性主義', '十個詞彙裡的中國 = China in ten words', '文化地理学', 'Case study research : design and methods', 'Criminology', 'Rational choice theory and religion : summary and assessment', 'Population : an introduction to concepts and issues', 'A matter of taste : how names, fashions, and culture change', '從日語看日本文化', '寫在家國以外', 'The socialist decision', 'Cultural geography', 'An introduction to population', '儒家思想的實踐', 'Society and politics in Hong Kong', 'Globalization, changing demographics, and educational challenges in East Asia', '過渡期的香港 : 政治、經濟、社會', 'Welfare theory : an introduction', '香港人的性格發展: 個案選集', \"Challenges and policy programmes of China's new leadership\", \"Otaku : Japan's database animals\", \"The Geography of contemporary China : the impact of Deng Xiaoping's decade\", 'International Handbook of Autism and Pervasive Developmental Disorders [electronic resource]', 'Japanese apology across disciplines', '那似曾相識的七十年代', 'Contemporary urban planning', '解读日本人论', '從人類學看香港社會: 華德英敎授論文集: Hong Kong society in anthropological perspective : collected essays of Professor barbara Elsie Ward', 'Routledge handbook of the climate change movement', 'Museum politics : power plays at the exhibition', 'The birth of Chinese feminism : essential texts in transnational theory', \"Japan's changing generations : are young people creating a new society?\", 'The consumer society reader', 'Understanding social citizenship : themes and perspectives for policy and practice', 'Culture & power : the sociology of Pierre Bourdieu', '文化与权力 : 布尔迪厄的社会学', '家庭如何塑造人', 'The cleanest race : how North Koreans see themselves--and why it matters', 'Encountering development : the making and unmaking of the third world', 'The new peoplemaking', '下一個十年 : 香港的光榮年代?', 'The social dynamics of family violence', 'The first decade : the Hong Kong SAR in retrospective and introspective perspectives', 'The social dynamics of family violence', 'The archaeology of early China : from prehistory to the Han Dynasty', '政治學新論 : 西方學理與中華經驗', 'At the bottom of the river', 'Politics', \"China's third revolution : tensions in the transition towards a post-communist China\", 'Writing ethnographic fieldnotes', 'Understanding crime data : haunted by the dark figure', 'Development studies', 'Politics', '動物化するポストモダン : オタクから見た日本社会', \"The rise of the creative class : and how it's transforming work, leisure, community and everyday life\", '日本の広場', 'Artisans in early imperial China', 'The globalization and development reader : perspectives on development and global change', 'Understanding cultural geography : places and traces', 'Youth & crime', '政治學新探 : 中華經驗與西方學理', '動物化的後現代 : 御宅族如何影響日本社會', '當代政治學十講 = Ten lectures on contemporary political science', 'Birth and fortune : the impact of numbers on personal welfare', 'Program evaluation : alternative approaches and practical guidelines', 'Democracy in America / translated, edited, and with an introduction by Harvey C. Mansfield and Delba Winthrop', 'Theorising welfare : enlightenment and modern society', 'Wives, husbands, and lovers : marriage and sexuality in Hong Kong, Taiwan, and urban China', 'Natural-born cyborgs : minds, technologies, and the future of human intelligence', 'Daoist modern : innovation, lay practice, and the community of inner alchemy in Republican Shanghai', 'Statesmen and gentlemen : the elite of Fu-Chou, Chiang-Hsi, in Northern and Southern Sung', 'Managing cultural landscapes', 'Work, consumerism and the new poor', 'Measuring environment across the life span : emerging methods and concepts', 'Orphan warriors : three Manchu generations and the end of the Qing world', 'The political economy of Japanese globalization', 'The birth of the museum : history, theory, politics', '原初的激情 : 視覺、性慾、民族誌與中國當代電影', 'ゼロ年代の想像力', '人間佛教的社會和政治參與 : 太虛和星雲如是說、如是行', 'Men and masculinities in contemporary Japan : dislocating the salaryman doxa', 'Writing literature reviews : a guide for students of the social and behavioral sciences', 'How to do educational ethnography', 'Effective writing : a guide for social science students', 'Tort law and social morality', '江戶東京のみかた調べかた', '中國文人的非正常死亡', '東京の空間人類学', \"The ASEAN success story : social, economic, and political dimensions : based on the East-West Center's 25th Anniversary Conference on ASEAN and the Pacific Basin, held in Honolulu, Hawaii from 29 October to 1 November 1985\", 'Psychometrics : an introduction', '天水圍的日與夜 [錄像資料] = The way we are', '中國的宗族與戲劇', 'Readings in urban theory', 'The common good and Christian ethics', 'A guide to doing statistics in second language research using SPSS and R', 'Education and national development : a comparative perspective', 'The geographical analysis of population : with applications to planning and business', '媒介文化論 : 給媒介學習者的15講', 'Economic development', 'The rule of law', 'リトル・ピープルの時代', 'Cities in a world economy', 'Geographies of development', 'Development and underdevelopment : the political economy of global inequality', 'Parents and children', 'World poverty : new policies to defeat an old enemy', 'World hunger : 12 myths', 'Excavating the afterlife [electronic resource] : the archaeology of early Chinese religion', 'The social visions of the Hebrew Bible : a theological introduction', 'A political sociology of educational reform : power/knowledge in teaching, teacher education, and research', 'Boundaries and allegiances : problems of justice and responsibility in liberal thought', 'Durkheim', '樂猶如此', 'Law and practice of international finance', 'Aversive democracy : inheritance and originality in the democratic tradition', 'Beyond the metropolis : villages in Hong Kong', 'Global civil society?', 'Human ecology : a theory of community structure', '明清文學中的西南敘事 = The southwest in Ming-Qing literary imagination', 'The ethics of immigration', 'Public health ethics : theory, policy, and practice', 'On common laws', 'An introduction to psychological assessment & psychometrics', 'The study of urban geography', \"God's beauty : a call to justice\", 'Fifty years of public housing in Hong Kong : a golden jubilee review and appraisal', 'Brokered boundaries : creating immigrant identity in anti-immigrant times', 'Researching the art of teaching : ethnography for educational use', '上海摩登 : 一種新都市文化在中國1930-1945', 'Psychological testing and assessment : an introduction to tests and measurement', 'The impossible state : North Korea, past and future', 'Adolescence', '樂在顚錯中 : 香港雅俗音樂文化', \"Whither China's democracy : democratization in China since the Tiananmen incident\", '上海摩登 : 一种新都市文化在中囯1930-1945', 'Shanghai modern : the flowering of a new urban culture in China, 1930-1945', 'Education and international development : theory, practice and issues', 'Robot ethics : the ethical and social implications of robotics', 'Evicted : poverty and profit in the American city', 'The great urban transformation : politics of land and property in China', '建設中國的耶路撒冷 : 基督教與城市現代性變遷', 'Adaptation and transformation in communist and post-communist systems', \"North Korea's hidden revolution : how the information underground is transforming a closed society\", 'Human enhancement', 'Public health infectious disease', 'The culture map : breaking through the invisible boundaries of global business', 'The common law in two voices : language, law, and the postcolonial dilemma in Hong Kong', 'Introduction to public health', 'Family law case library. Children', 'Nuclear endgame : the need for engagement with North Korea', 'Masculine compromise : migration, family, and gender in China', 'World poverty and human rights : cosmopolitan responsibilities and reforms', '课程与敎学的基本原理', 'Political parties and democracy', 'Polyarchy; participation and opposition', 'Understanding the political culture of Hong Kong : the paradox of activism and depoliticization', '課程與敎學的基本原理', 'Asian children at home and at school : an ethnographic study', '基督教的兴起 : 一个社会学家对历史的再思 = The rise of Christianity : a sociologist reconsiders history', 'ゲーム的リアリズムの誕生 : 動物化するポストモダン. 2', 'Social media campaigns : strategies for public relations and marketing', 'The economic analysis of public policy [electronic resource]', \"Constructing China's Jerusalem : Christians, power, and place in contemporary Wenzhou\", 'Scouting in Hong Kong, 1910-2010', 'Culture clash', 'Dimensions of radical democracy : pluralism, citizenship, community', 'Global civil society : dimensions of the nonprofit sector', 'Equilibrium analysis : variations on themes by Edgeworth and Walras', 'The Routledge companion to landscape studies', 'Modern political ideologies', 'Constructing education for development : international organizations and education for all', 'Teaching in the knowledge society : education in the age of insecurity', 'Political theory and international relations', 'The rise of Christianity : a sociologist reconsiders history', 'Millennial monsters : Japanese toys and the global imagination', 'The complex roles of the teacher : an ecological perspective', '人間開眼 : 從小說與映像窺視下流日本', 'Community-based participatory research', 'Basic principles of curriculum and instruction', 'Ethnography as Christian theology and ethics', \"Cinderella's sisters : a revisionist history of footbinding\", 'Power and resistance in the new world order', 'Legal traditions of the world : sustainable diversity in law', '綠色思想與香港', 'Exhibiting cultures : the poetics and politics of museum display', '何以三代以下有亂無治 : 明夷待訪錄 = Waiting for the dawn : a plan for the prince', 'Cities, war, and terrorism : towards an urban geopolitics', '非物質文化遺產與東亞地方社會', \"Origins of North Korea's Juche : colonialism, war, and development\", 'War, peace and international relations : an introduction to strategic history', 'Fandom unbound : otaku culture in a connected world', '我們在慶祝甚麼? : 香港的多元文化節慶', 'The global warming reader : a century of writing about climate change', 'Why Arendt matters', 'Pattern and person : ornament, society, and self in classical China', 'Casting stones : prostitution and liberation in Asia and the United States', 'Strategy in the contemporary world : an introduction to strategic studies', 'Reinventing the skyscraper : a vertical theory of urban design', '香港敎育政策分析 : 社會學的視域', 'The globalization reader', 'Social world of the Hebrew prophets', 'Nutrition in public health : a handbook for developing programs and services', 'The Hong Kong health sector : development and change', 'The psychology of lifestyle : promoting healthy behaviour', 'The map of meaning : a guide to sustaining our humanity in the world of work', 'Minor illness or major disease?', 'Making health policy', 'Retribution and eschatology in chronicles', 'National responsibility and global justice', 'Making representations : museums in the post-colonial era', 'Elements of family law in Singapore', 'Understanding classical sociology : Marx, Weber, Durkheim', 'Epidemiology and public health medicine', 'Community care in Hong Kong : current practices, practice-research studies and future directions', 'ASEAN, identity, development & culture', '特集制度/プログラム/ビルディング · タイプ = institution, program, building type', 'Lifestyle medicine', '特集生きられる東京 : 都市の経験, 都市の時間', 'Marx : a very short introduction', '西漢人口地理']\n"
     ]
    }
   ],
   "source": [
    "with open('cuhk sociology.csv', \"rt\", encoding=\"utf-8\") as vsvfile:\n",
    "    reader = csv.reader(vsvfile)\n",
    "    column2 = [row[1] for row in reader]\n",
    "    print(column2)"
   ]
  },
  {
   "cell_type": "code",
   "execution_count": 29,
   "metadata": {
    "scrolled": true
   },
   "outputs": [
    {
     "name": "stdout",
     "output_type": "stream",
     "text": [
      "['titles', 'Schools and society : a sociological approach to education', 'Modern social work theory', 'Qualitative inquiry & research design : choosing among five approaches', 'Social research methods', 'Qualitative research methods for the social sciences', 'Case study research : design and methods', 'Research design : qualitative, quantitative, and mixed methods approaches', 'The practice of social research', 'What is a case? : exploring the foundations of social inquiry', 'The law of peoples ; with, The idea of public reason revisited', 'Dimensions of Japanese society : gender, margins and mainstream', 'Chinese society in the age of Confucius (1000-250 BC) : the archaeological evidence', 'Cities in a world economy', 'The globalization reader', '香港四代人', '社會行動與香港', 'Men and masculinities in contemporary Japan : dislocating the salaryman doxa', 'The archaeology of early China : from prehistory to the Han Dynasty', \"China's future\"]\n",
      "20\n"
     ]
    }
   ],
   "source": [
    "same2 = [val for val in column1 if val in column2]\n",
    "print (same2)\n",
    "print(len(same2))"
   ]
  },
  {
   "cell_type": "code",
   "execution_count": 22,
   "metadata": {},
   "outputs": [
    {
     "name": "stdout",
     "output_type": "stream",
     "text": [
      "   Unnamed: 0                                             titles  \\\n",
      "3           3  Schools and society : a sociological approach ...   \n",
      "\n",
      "                                       publishers  \\\n",
      "3  2nd ed. Belmont, CA : Wadsworth/Thomson, c2004   \n",
      "\n",
      "                               authors   years  \n",
      "3  Ballantine, Jeanne H; Spade, Joan Z  2004.0  \n",
      "    Unnamed: 0                     titles  \\\n",
      "40          40  Modern social work theory   \n",
      "\n",
      "                                           publishers  \\\n",
      "40  Fourth edition. Basingstoke : Palgrave Macmill...   \n",
      "\n",
      "                         authors   years  \n",
      "40  Payne, Malcolm 1947- author.  2014.0  \n",
      "    Unnamed: 0                                             titles  \\\n",
      "55          55  Qualitative inquiry & research design : choosi...   \n",
      "\n",
      "                                     publishers  \\\n",
      "55  3rd ed. Thousand Oaks, Calif. : SAGE, c2013   \n",
      "\n",
      "                               authors   years  \n",
      "55  Creswell, John W. Creswell, John W  2013.0  \n",
      "    Unnamed: 0                   titles  \\\n",
      "56          56  Social research methods   \n",
      "\n",
      "                                         publishers        authors   years  \n",
      "56  4th ed. Oxford : Oxford University Press, c2012  Bryman, Alan.  2012.0  \n",
      "    Unnamed: 0                                             titles  \\\n",
      "58          58  Qualitative research methods for the social sc...   \n",
      "\n",
      "                               publishers  \\\n",
      "58  7th ed. Boston : Allyn & Bacon, c2009   \n",
      "\n",
      "                                   authors   years  \n",
      "58  Berg, Bruce L. (Bruce Lawrence), 1954-  2009.0  \n",
      "    Unnamed: 0                                    titles  \\\n",
      "62          62  Case study research : design and methods   \n",
      "\n",
      "                                           publishers         authors   years  \n",
      "62  3rd ed. Thousand Oaks, Calif. : Sage Publicati...  Yin, Robert K.  2003.0  \n",
      "    Unnamed: 0                                             titles  \\\n",
      "69          69  Research design : qualitative, quantitative, a...   \n",
      "\n",
      "                                          publishers            authors  \\\n",
      "69  4th ed. Thousand Oaks : SAGE Publications, c2014  Creswell, John W.   \n",
      "\n",
      "     years  \n",
      "69  2014.0  \n",
      "    Unnamed: 0                           titles  \\\n",
      "75          75  The practice of social research   \n",
      "\n",
      "                                           publishers          authors   years  \n",
      "75  Fourteenth edition. Boston, Massachusetts : Ce...  Babbie, Earl R.  2016.0  \n",
      "     Unnamed: 0                                             titles  \\\n",
      "167         167  What is a case? : exploring the foundations of...   \n",
      "\n",
      "                                            publishers  \\\n",
      "167  Cambridge ; New York : Cambridge University Pr...   \n",
      "\n",
      "                                         authors   years  \n",
      "167  Ragin, Charles C; Becker, Howard Saul 1928-  1992.0  \n",
      "     Unnamed: 0                                             titles  \\\n",
      "187         187  The law of peoples ; with, The idea of public ...   \n",
      "\n",
      "                                            publishers  \\\n",
      "187  Cambridge, Mass. : Harvard University Press, 1999   \n",
      "\n",
      "                    authors   years  \n",
      "187  Rawls, John 1921-2002.  1999.0  \n",
      "     Unnamed: 0                                             titles  \\\n",
      "212         212  Dimensions of Japanese society : gender, margi...   \n",
      "\n",
      "                                            publishers               authors  \\\n",
      "212  Houndmills, Basingstoke, Hampshire : Macmillan...  Henshall, Kenneth G.   \n",
      "\n",
      "      years  \n",
      "212  1999.0  \n",
      "     Unnamed: 0                                             titles  \\\n",
      "216         216  Chinese society in the age of Confucius (1000-...   \n",
      "\n",
      "                                            publishers  \\\n",
      "216  Los Angeles : Cotsen Institute of Archaeology,...   \n",
      "\n",
      "                       authors   years  \n",
      "216  Falkenhausen, Lothar von.  2006.0  \n",
      "     Unnamed: 0                     titles  \\\n",
      "229         229  Cities in a world economy   \n",
      "\n",
      "                                            publishers          authors  \\\n",
      "229  3rd ed. Thousand Oaks, Calif. : Pine Forge Pre...  Sassen, Saskia.   \n",
      "\n",
      "      years  \n",
      "229  2006.0  \n",
      "     Unnamed: 0                    titles  \\\n",
      "231         231  The globalization reader   \n",
      "\n",
      "                                            publishers  \\\n",
      "231  Fifth edition. Chichester, West Sussex, UK ; M...   \n",
      "\n",
      "                                               authors   years  \n",
      "231  Lechner, Frank J. editor.; Boli, John 1948- ed...  2015.0  \n",
      "     Unnamed: 0 titles                 publishers          authors   years\n",
      "273         273  香港四代人  第1版 香港 : 進一步多媒體有限公司, 2007  Lü, Dale. ; 呂大樂  2007.0\n",
      "     Unnamed: 0   titles           publishers                  authors   years\n",
      "276         276  社會行動與香港  初版. 香港 : 靑文書屋, 1989  Wong, Chack-kie. ; 王卓祺.  1989.0\n",
      "     Unnamed: 0                                             titles  \\\n",
      "298         298  Men and masculinities in contemporary Japan : ...   \n",
      "\n",
      "                                    publishers  \\\n",
      "298  London ; New York : RoutledgeCurzon, 2003   \n",
      "\n",
      "                                           authors   years  \n",
      "298  Roberson, James E. 1955-; Suzuki, Nobue 1957-  2003.0  \n",
      "     Unnamed: 0                                             titles  \\\n",
      "311         311  The archaeology of early China : from prehisto...   \n",
      "\n",
      "                                          publishers  \\\n",
      "311  New York, NY : Cambridge University Press, 2015   \n",
      "\n",
      "                          authors   years  \n",
      "311  Shelach-Lavi, Gideon author.  2015.0  \n",
      "     Unnamed: 0          titles                                publishers  \\\n",
      "318         318  China's future  First edition. Malden, MA : Polity, 2016   \n",
      "\n",
      "                         authors   years  \n",
      "318  Shambaugh, David L. author.  2016.0  \n"
     ]
    }
   ],
   "source": [
    "csv_file = \"cityu sociology.csv\"\n",
    "completeinfo = pd.read_csv(csv_file)\n",
    "for i in list(same2)[1:]:\n",
    "    c=completeinfo[completeinfo['titles']==i]\n",
    "    print(c)"
   ]
  },
  {
   "cell_type": "code",
   "execution_count": 23,
   "metadata": {},
   "outputs": [
    {
     "name": "stdout",
     "output_type": "stream",
     "text": [
      "     Unnamed: 0                                             titles  \\\n",
      "107         107  Schools and society : a sociological approach ...   \n",
      "\n",
      "                                      publishers  \\\n",
      "107  3rd ed Los Angeles : Pine Forge Press c2008   \n",
      "\n",
      "                                             authors years  \n",
      "107  [edited by] Jeanne H. Ballantine, Joan Z. Spade  2008  \n",
      "     Unnamed: 0                     titles  \\\n",
      "188         188  Modern social work theory   \n",
      "\n",
      "                                          publishers        authors years  \n",
      "188  3rd ed Chicago, Ill. : Lyceum Books, Inc. c2005  Malcolm Payne  2005  \n",
      "     Unnamed: 0                                             titles  \\\n",
      "193         193  Qualitative inquiry & research design : choosi...   \n",
      "\n",
      "                                         publishers           authors years  \n",
      "193  2nd ed Thousand Oaks : Sage Publications c2007  John W. Creswell  2007  \n",
      "     Unnamed: 0                   titles  \\\n",
      "161         161  Social research methods   \n",
      "162         162  Social research methods   \n",
      "\n",
      "                                            publishers      authors years  \n",
      "161  Oxford ; New York : Oxford University Press c2012  Alan Bryman  2012  \n",
      "162  International Edition Oxford : Oxford Universi...  Alan Bryman  2016  \n",
      "     Unnamed: 0                                             titles  \\\n",
      "195         195  Qualitative research methods for the social sc...   \n",
      "197         197  Qualitative research methods for the social sc...   \n",
      "\n",
      "                                      publishers                     authors  \\\n",
      "195  6th ed Boston : Pearson/Allyn & Bacon c2007               Bruce L. Berg   \n",
      "197                8th ed Boston : Pearson c2012  Bruce L. Berg, Howard Lune   \n",
      "\n",
      "    years  \n",
      "195  2007  \n",
      "197  2012  \n",
      "     Unnamed: 0                                    titles  \\\n",
      "315         315  Case study research : design and methods   \n",
      "\n",
      "                                publishers        authors years  \n",
      "315  Fifth edition Los Angeles : SAGE 2014  Robert K. Yin  2014  \n",
      "     Unnamed: 0                                             titles  \\\n",
      "189         189  Research design : qualitative, quantitative, a...   \n",
      "206         206  Research design : qualitative, quantitative, a...   \n",
      "\n",
      "                                            publishers           authors years  \n",
      "189  Fourth edition, international student edition ...  John W. Creswell  2014  \n",
      "206  3rd ed Thousand Oaks, Calif. : Sage Publicatio...  John W. Creswell  2009  \n",
      "     Unnamed: 0                           titles  \\\n",
      "160         160  The practice of social research   \n",
      "191         191  The practice of social research   \n",
      "\n",
      "                                            publishers  \\\n",
      "160  Fourteenth edition Boston, MA : Cengage Learni...   \n",
      "191  13th ed., student ed Belmont, Calif. : Wadswor...   \n",
      "\n",
      "                             authors years  \n",
      "160  Earl Babbie, Chapman University  2016  \n",
      "191                      Earl Babbie  2013  \n",
      "     Unnamed: 0                                             titles  \\\n",
      "190         190  What is a case? : exploring the foundations of...   \n",
      "\n",
      "                                            publishers  \\\n",
      "190  Cambridge ; New York : Cambridge University Pr...   \n",
      "\n",
      "                                             authors years  \n",
      "190  edited by Charles C. Ragin and Howard S. Becker  1992  \n",
      "    Unnamed: 0                                             titles  \\\n",
      "82          82  The law of peoples ; with, The idea of public ...   \n",
      "\n",
      "                                          publishers     authors years  \n",
      "82  Cambridge, Mass. : Harvard University Press 1999  John Rawls  1999  \n",
      "    Unnamed: 0                                             titles  \\\n",
      "72          72  Dimensions of Japanese society : gender, margi...   \n",
      "\n",
      "                                           publishers              authors  \\\n",
      "72  Basingstoke, Hampshire : Macmillan ; New York ...  Kenneth G. Henshall   \n",
      "\n",
      "   years  \n",
      "72  1999  \n",
      "     Unnamed: 0                                             titles  \\\n",
      "254         254  Chinese society in the age of Confucius (1000-...   \n",
      "\n",
      "                                            publishers  \\\n",
      "254  Los Angeles : Cotsen Institute of Archaeology,...   \n",
      "\n",
      "                     authors years  \n",
      "254  Lothar von Falkenhausen  2006  \n",
      "     Unnamed: 0                     titles  \\\n",
      "413         413  Cities in a world economy   \n",
      "\n",
      "                                            publishers        authors years  \n",
      "413  4th ed Thousand Oaks, Calif. : SAGE/Pine Forge...  Saskia Sassen  2012  \n",
      "     Unnamed: 0                    titles  \\\n",
      "511         511  The globalization reader   \n",
      "\n",
      "                                 publishers  \\\n",
      "511  Fifth Edition Hoboken, NJ : Wiley 2015   \n",
      "\n",
      "                                      authors years  \n",
      "511  edited by Frank J. Lechner and John Boli  2015  \n",
      "     Unnamed: 0 titles                publishers authors years\n",
      "282         282  香港四代人  第1版 香港 : 進一步多媒體有限公司 2007     呂大樂  2007\n",
      "     Unnamed: 0   titles         publishers authors years\n",
      "222         222  社會行動與香港  初版 香港 : 青文書屋 1989    王卓祺著  1989\n",
      "     Unnamed: 0                                             titles  \\\n",
      "392         392  Men and masculinities in contemporary Japan : ...   \n",
      "\n",
      "                             publishers  \\\n",
      "392  London ; New York : Routledge 2003   \n",
      "\n",
      "                                          authors years  \n",
      "392  edited by James E. Roberson and Nobue Suzuki  2003  \n",
      "     Unnamed: 0                                             titles  \\\n",
      "356         356  The archaeology of early China : from prehisto...   \n",
      "\n",
      "                                         publishers              authors years  \n",
      "356  New York, NY : Cambridge University Press 2015  Gideon Shelach-Lavi  2015  \n",
      "     Unnamed: 0          titles                   publishers          authors  \\\n",
      "307         307  China's future  Cambridge, UK : Polity 2016  David Shambaugh   \n",
      "\n",
      "    years  \n",
      "307  2016  \n"
     ]
    }
   ],
   "source": [
    "csv_file = \"cuhk sociology.csv\"\n",
    "completeinfo = pd.read_csv(csv_file)\n",
    "for i in list(same2)[1:]:\n",
    "    d=completeinfo[completeinfo['titles']==i]\n",
    "    print(d)"
   ]
  },
  {
   "cell_type": "code",
   "execution_count": null,
   "metadata": {},
   "outputs": [],
   "source": []
  }
 ],
 "metadata": {
  "kernelspec": {
   "display_name": "Python 3",
   "language": "python",
   "name": "python3"
  },
  "language_info": {
   "codemirror_mode": {
    "name": "ipython",
    "version": 3
   },
   "file_extension": ".py",
   "mimetype": "text/x-python",
   "name": "python",
   "nbconvert_exporter": "python",
   "pygments_lexer": "ipython3",
   "version": "3.6.5"
  }
 },
 "nbformat": 4,
 "nbformat_minor": 2
}
